{
  "cells": [
    {
      "cell_type": "code",
      "execution_count": 1,
      "metadata": {
        "id": "QIPZ3_OtFSj3"
      },
      "outputs": [],
      "source": [
        "import tensorflow as tf\n",
        "from tensorflow.keras.datasets import mnist\n",
        "from tensorflow.keras import layers, Model\n",
        "from tensorflow.keras.layers import Conv2D, Convolution2DTranspose, MaxPooling2D, UpSampling2D, LeakyReLU, BatchNormalization\n",
        "from tensorflow.keras.layers import Conv2DTranspose, MaxPooling2D, UpSampling2D, LeakyReLU, Flatten, Dense, Reshape\n",
        "from tensorflow.keras.activations import relu\n",
        "from tensorflow.keras.models import Sequential, load_model\n",
        "from tensorflow.keras.callbacks import ModelCheckpoint, EarlyStopping\n",
        "\n",
        "import tensorflow_datasets as tfds\n",
        "import numpy as np\n",
        "import matplotlib.pyplot as plt"
      ]
    },
    {
      "cell_type": "code",
      "execution_count": 2,
      "metadata": {
        "id": "RiW8QeH0FkRz",
        "colab": {
          "base_uri": "https://localhost:8080/"
        },
        "outputId": "6afe78cb-bbd9-476b-f678-b36c1cfcf70b"
      },
      "outputs": [
        {
          "output_type": "stream",
          "name": "stdout",
          "text": [
            "Downloading data from https://storage.googleapis.com/tensorflow/tf-keras-datasets/mnist.npz\n",
            "11493376/11490434 [==============================] - 0s 0us/step\n",
            "11501568/11490434 [==============================] - 0s 0us/step\n"
          ]
        }
      ],
      "source": [
        "# load cifar10 dataset\n",
        "(_, _), (x_val, y_val) = mnist.load_data()"
      ]
    },
    {
      "cell_type": "code",
      "execution_count": 3,
      "metadata": {
        "id": "Q4RsA5T3F3Nl"
      },
      "outputs": [],
      "source": [
        "# batch size\n",
        "batch_size = 100"
      ]
    },
    {
      "cell_type": "code",
      "execution_count": 4,
      "metadata": {
        "colab": {
          "base_uri": "https://localhost:8080/",
          "height": 248
        },
        "id": "rmV-AfdzF8Vw",
        "outputId": "b639ee05-a119-40e2-ad9f-8e17bc32bd0a"
      },
      "outputs": [
        {
          "output_type": "display_data",
          "data": {
            "text/plain": [
              "<Figure size 1440x288 with 20 Axes>"
            ],
            "image/png": "[encoded data removed]"
          },
          "metadata": {}
        }
      ],
      "source": [
        "# show some training images\n",
        "fig = plt.figure(figsize = (20, 4))\n",
        "\n",
        "for idx in range(20):\n",
        "  ax = fig.add_subplot(2, 10, idx + 1, xticks = [], yticks = [])\n",
        "  plt.imshow(x_val[idx], cmap = 'gray')"
      ]
    },
    {
      "cell_type": "code",
      "execution_count": 4,
      "metadata": {
        "id": "XrX3JgaTGA5_"
      },
      "outputs": [],
      "source": []
    },
    {
      "cell_type": "code",
      "execution_count": 5,
      "metadata": {
        "colab": {
          "base_uri": "https://localhost:8080/"
        },
        "id": "04HijCLaVBNa",
        "outputId": "b3db7b31-3e66-4d90-f4b9-101b5d2a9700"
      },
      "outputs": [
        {
          "output_type": "stream",
          "name": "stdout",
          "text": [
            "Number of Validation Samples:  10000\n"
          ]
        }
      ],
      "source": [
        "print(\"Number of Validation Samples: \", len(x_val))"
      ]
    },
    {
      "cell_type": "code",
      "execution_count": 6,
      "metadata": {
        "colab": {
          "base_uri": "https://localhost:8080/"
        },
        "id": "U4dts7B_VBNV",
        "outputId": "c7f550b3-a625-4cd5-e5c9-fe208cc030c9"
      },
      "outputs": [
        {
          "output_type": "stream",
          "name": "stdout",
          "text": [
            "Shape of Validation images:  (10000, 28, 28)\n"
          ]
        }
      ],
      "source": [
        "# shape of images\n",
        "print(\"Shape of Validation images: \", x_val.shape)"
      ]
    },
    {
      "cell_type": "code",
      "execution_count": 7,
      "metadata": {
        "id": "LubGOHGpVBNN"
      },
      "outputs": [],
      "source": [
        "# change data type\n",
        "x_val = x_val.astype('float32')"
      ]
    },
    {
      "cell_type": "code",
      "execution_count": 8,
      "metadata": {
        "id": "mRL_xhc1VBNJ"
      },
      "outputs": [],
      "source": [
        "# normalize data into range 1-0\n",
        "x_val /= 255.0"
      ]
    },
    {
      "cell_type": "code",
      "execution_count": 9,
      "metadata": {
        "colab": {
          "base_uri": "https://localhost:8080/"
        },
        "id": "2J0n4HUMVBNF",
        "outputId": "7e93419c-20a6-4a18-8a56-335bf77dd7ec"
      },
      "outputs": [
        {
          "output_type": "stream",
          "name": "stdout",
          "text": [
            "Validation shape:  (10000, 28, 28)\n"
          ]
        }
      ],
      "source": [
        "print(\"Validation shape: \", x_val.shape)"
      ]
    },
    {
      "cell_type": "code",
      "execution_count": 10,
      "metadata": {
        "colab": {
          "base_uri": "https://localhost:8080/"
        },
        "id": "YCEtcKm6HrWS",
        "outputId": "67f993d0-0aa7-43de-80da-e860ccd22ace"
      },
      "outputs": [
        {
          "output_type": "stream",
          "name": "stdout",
          "text": [
            "Mounted at /content/drive\n"
          ]
        }
      ],
      "source": [
        "from google.colab import drive\n",
        "drive.mount('/content/drive')"
      ]
    },
    {
      "cell_type": "code",
      "execution_count": 11,
      "metadata": {
        "id": "D983nOJKGc2S"
      },
      "outputs": [],
      "source": [
        "import pickle\n",
        "fgsm_test = open('./drive/My Drive/PhD_Thesis/adversarial_noise/mnist_jsma_nosie.pickle', 'rb')\n",
        "fgsm_noise_test = pickle.load(fgsm_test)"
      ]
    },
    {
      "cell_type": "code",
      "execution_count": 12,
      "metadata": {
        "colab": {
          "base_uri": "https://localhost:8080/"
        },
        "id": "E0KkWaJBChmd",
        "outputId": "4f6f170f-a728-4ff2-8d66-267007b437fc"
      },
      "outputs": [
        {
          "output_type": "execute_result",
          "data": {
            "text/plain": [
              "(1000, 28, 28, 1)"
            ]
          },
          "metadata": {},
          "execution_count": 12
        }
      ],
      "source": [
        "fgsm_noise_test.shape"
      ]
    },
    {
      "cell_type": "code",
      "execution_count": 13,
      "metadata": {
        "colab": {
          "base_uri": "https://localhost:8080/",
          "height": 282
        },
        "id": "PyL8JoJzHBGG",
        "outputId": "70b264bd-8ae1-44d5-f44c-93141c55128b"
      },
      "outputs": [
        {
          "output_type": "execute_result",
          "data": {
            "text/plain": [
              "<matplotlib.image.AxesImage at 0x7f8f782ec650>"
            ]
          },
          "metadata": {},
          "execution_count": 13
        },
        {
          "output_type": "display_data",
          "data": {
            "text/plain": [
              "<Figure size 432x288 with 1 Axes>"
            ],
            "image/png": "[encoded data removed]"
          },
          "metadata": {
            "needs_background": "light"
          }
        }
      ],
      "source": [
        "fgsm_noise_test.shape\n",
        "plt.imshow(fgsm_noise_test[0].reshape(28, 28))"
      ]
    },
    {
      "cell_type": "code",
      "execution_count": 14,
      "metadata": {
        "id": "M4pIoNrzPLjL"
      },
      "outputs": [],
      "source": [
        "x_val = x_val[:1000].reshape(1000, 28, 28, 1)"
      ]
    },
    {
      "cell_type": "code",
      "execution_count": 15,
      "metadata": {
        "colab": {
          "base_uri": "https://localhost:8080/"
        },
        "id": "sIyG6DHZHE6A",
        "outputId": "da8cb6a8-5e04-4e88-a4a7-3401f1c6753d"
      },
      "outputs": [
        {
          "output_type": "execute_result",
          "data": {
            "text/plain": [
              "(1000, 28, 28, 1)"
            ]
          },
          "metadata": {},
          "execution_count": 15
        }
      ],
      "source": [
        "x_val_noise = x_val + fgsm_noise_test\n",
        "x_val_noise.shape"
      ]
    },
    {
      "cell_type": "code",
      "execution_count": 16,
      "metadata": {
        "colab": {
          "base_uri": "https://localhost:8080/",
          "height": 248
        },
        "id": "UW5AATRkHJ5s",
        "outputId": "919acd8d-017e-4a06-98af-d234417396a8"
      },
      "outputs": [
        {
          "output_type": "display_data",
          "data": {
            "text/plain": [
              "<Figure size 1440x288 with 20 Axes>"
            ],
            "image/png": "[encoded data removed]"
          },
          "metadata": {}
        }
      ],
      "source": [
        "# show some training images\n",
        "fig = plt.figure(figsize = (20, 4))\n",
        "\n",
        "for idx in range(20):\n",
        "  ax = fig.add_subplot(2, 10, idx + 1, xticks = [], yticks = [])\n",
        "  plt.imshow(np.clip(x_val_noise[idx].reshape(28, 28), 0, 1), cmap = 'gray')"
      ]
    },
    {
      "cell_type": "code",
      "execution_count": 16,
      "metadata": {
        "id": "DYlZ4m6KOrLG"
      },
      "outputs": [],
      "source": []
    },
    {
      "cell_type": "code",
      "execution_count": 63,
      "metadata": {
        "colab": {
          "base_uri": "https://localhost:8080/"
        },
        "id": "Se1Lxm82HSlS",
        "outputId": "d8e73d0f-2a67-4387-99ef-102d51283c8c"
      },
      "outputs": [
        {
          "output_type": "stream",
          "name": "stdout",
          "text": [
            "Model: \"model_17\"\n",
            "_________________________________________________________________\n",
            " Layer (type)                Output Shape              Param #   \n",
            "=================================================================\n",
            " input_19 (InputLayer)       [(None, 28, 28, 1)]       0         \n",
            "                                                                 \n",
            " conv2d_229 (Conv2D)         (None, 14, 14, 64)        640       \n",
            "                                                                 \n",
            " conv2d_230 (Conv2D)         (None, 14, 14, 64)        36928     \n",
            "                                                                 \n",
            " batch_normalization_110 (Ba  (None, 14, 14, 64)       256       \n",
            " tchNormalization)                                               \n",
            "                                                                 \n",
            " conv2d_231 (Conv2D)         (None, 7, 7, 128)         73856     \n",
            "                                                                 \n",
            " conv2d_232 (Conv2D)         (None, 7, 7, 128)         147584    \n",
            "                                                                 \n",
            " batch_normalization_111 (Ba  (None, 7, 7, 128)        512       \n",
            " tchNormalization)                                               \n",
            "                                                                 \n",
            " conv2d_233 (Conv2D)         (None, 4, 4, 256)         295168    \n",
            "                                                                 \n",
            " conv2d_234 (Conv2D)         (None, 4, 4, 256)         590080    \n",
            "                                                                 \n",
            " batch_normalization_112 (Ba  (None, 4, 4, 256)        1024      \n",
            " tchNormalization)                                               \n",
            "                                                                 \n",
            " conv2d_235 (Conv2D)         (None, 2, 2, 512)         1180160   \n",
            "                                                                 \n",
            " conv2d_236 (Conv2D)         (None, 2, 2, 512)         2359808   \n",
            "                                                                 \n",
            " batch_normalization_113 (Ba  (None, 2, 2, 512)        2048      \n",
            " tchNormalization)                                               \n",
            "                                                                 \n",
            " flatten_18 (Flatten)        (None, 2048)              0         \n",
            "                                                                 \n",
            " dropout_21 (Dropout)        (None, 2048)              0         \n",
            "                                                                 \n",
            " dense_18 (Dense)            (None, 2048)              4196352   \n",
            "                                                                 \n",
            " reshape_14 (Reshape)        (None, 2, 2, 512)         0         \n",
            "                                                                 \n",
            " conv2d_transpose_42 (Conv2D  (None, 5, 5, 512)        2359808   \n",
            " Transpose)                                                      \n",
            "                                                                 \n",
            " conv2d_237 (Conv2D)         (None, 5, 5, 512)         2359808   \n",
            "                                                                 \n",
            " batch_normalization_114 (Ba  (None, 5, 5, 512)        2048      \n",
            " tchNormalization)                                               \n",
            "                                                                 \n",
            " conv2d_transpose_43 (Conv2D  (None, 7, 7, 256)        1179904   \n",
            " Transpose)                                                      \n",
            "                                                                 \n",
            " conv2d_238 (Conv2D)         (None, 7, 7, 256)         590080    \n",
            "                                                                 \n",
            " batch_normalization_115 (Ba  (None, 7, 7, 256)        1024      \n",
            " tchNormalization)                                               \n",
            "                                                                 \n",
            " conv2d_transpose_44 (Conv2D  (None, 14, 14, 128)      295040    \n",
            " Transpose)                                                      \n",
            "                                                                 \n",
            " conv2d_239 (Conv2D)         (None, 14, 14, 128)       147584    \n",
            "                                                                 \n",
            " batch_normalization_116 (Ba  (None, 14, 14, 128)      512       \n",
            " tchNormalization)                                               \n",
            "                                                                 \n",
            " conv2d_transpose_45 (Conv2D  (None, 28, 28, 64)       73792     \n",
            " Transpose)                                                      \n",
            "                                                                 \n",
            " conv2d_240 (Conv2D)         (None, 28, 28, 64)        36928     \n",
            "                                                                 \n",
            " batch_normalization_117 (Ba  (None, 28, 28, 64)       256       \n",
            " tchNormalization)                                               \n",
            "                                                                 \n",
            " conv2d_241 (Conv2D)         (None, 28, 28, 1)         577       \n",
            "                                                                 \n",
            "=================================================================\n",
            "Total params: 15,931,777\n",
            "Trainable params: 15,927,937\n",
            "Non-trainable params: 3,840\n",
            "_________________________________________________________________\n"
          ]
        }
      ],
      "source": [
        "# define encoder\n",
        " \n",
        "inputs = layers.Input(shape = [28, 28, 1])\n",
        "x = inputs\n",
        "\n",
        "x = Conv2D(filters = 64, kernel_size = (3, 3), strides = 2, padding = 'same', activation = relu)(x)\n",
        "x = Conv2D(filters = 64, kernel_size = (3, 3), strides = 1, padding = 'same', activation = relu)(x)\n",
        "x = BatchNormalization()(x)\n",
        "  \n",
        "x = Conv2D(filters = 128, kernel_size = (3, 3), strides = 2, padding = 'same', activation = relu)(x)\n",
        "x = Conv2D(filters = 128, kernel_size = (3, 3), strides = 1, padding = 'same', activation = relu)(x)\n",
        "x = BatchNormalization()(x)\n",
        "\n",
        "x = Conv2D(filters = 256, kernel_size = (3, 3), strides = 2, padding = 'same', activation = relu)(x)\n",
        "x = Conv2D(filters = 256, kernel_size = (3, 3), strides = 1, padding = 'same', activation = relu)(x)\n",
        "x = BatchNormalization()(x)\n",
        "\n",
        "x = Conv2D(filters = 512, kernel_size = (3, 3), strides = 2, padding = 'same', activation = relu)(x)\n",
        "x = Conv2D(filters = 512, kernel_size = (3, 3), strides = 1, padding = 'same', activation = relu)(x)\n",
        "x = BatchNormalization()(x)\n",
        "\n",
        "\n",
        "x = Flatten()(x)\n",
        "x = tf.keras.layers.Dropout(0.2)(x)\n",
        "x = Dense(units = 2048, activation = relu)(x)\n",
        "\n",
        "# Decoder\n",
        "x = Reshape((2, 2, 512))(x)\n",
        "x = Conv2DTranspose(filters = 512, kernel_size = (3, 3), strides = 2)(x)\n",
        "x = Conv2D(filters = 512, kernel_size = (3, 3), strides = 1, padding = 'same', activation = relu)(x)\n",
        "x = BatchNormalization()(x)\n",
        "\n",
        "x = Conv2DTranspose(filters = 256, kernel_size = (3, 3), strides = 1)(x)\n",
        "x = Conv2D(filters = 256, kernel_size = (3, 3), strides = 1, padding = 'same', activation = relu)(x)\n",
        "x = BatchNormalization()(x)\n",
        "\n",
        "x = Conv2DTranspose(filters = 128, kernel_size = (3, 3), strides = 2, padding = 'same')(x)\n",
        "x = Conv2D(filters = 128, kernel_size = (3, 3), strides = 1, padding = 'same', activation = relu)(x)\n",
        "x = BatchNormalization()(x)\n",
        "\n",
        "x = Conv2DTranspose(filters = 64, kernel_size = (3, 3), strides = 2, padding = 'same')(x)\n",
        "x = Conv2D(filters = 64, kernel_size = (3, 3), strides = 1, padding = 'same', activation = relu)(x)\n",
        "x = BatchNormalization()(x)\n",
        "\n",
        "out = tf.keras.layers.Dropout(0.2)(x)\n",
        "out = Conv2D(filters = 1, kernel_size = (3, 3), strides = 1, padding = 'same', activation = relu)(x)\n",
        "\n",
        "DIR = Model(inputs = inputs, outputs = out)\n",
        "DIR.summary()"
      ]
    },
    {
      "cell_type": "code",
      "execution_count": 64,
      "metadata": {
        "id": "rdC9kpaTJDgC"
      },
      "outputs": [],
      "source": [
        "model_path = './drive/My Drive/PhD_Thesis/Generative_Models/dir_mnist_jsma.h5'\n",
        "checkpoint = ModelCheckpoint(model_path, \n",
        "                             monitor= \"val_loss\", \n",
        "                             verbose=1, \n",
        "                             save_best_only=True, \n",
        "                             mode= \"auto\", \n",
        "                             save_weights_only = False)\n",
        "\n",
        "early = EarlyStopping(monitor= \"val_loss\", \n",
        "                      mode= \"auto\", \n",
        "                      patience = 20)\n",
        "\n",
        "callbacks_list = [checkpoint, early]"
      ]
    },
    {
      "cell_type": "code",
      "execution_count": 65,
      "metadata": {
        "id": "y0Y8sDqNJlCa"
      },
      "outputs": [],
      "source": [
        "DIR.compile(loss = 'mse', optimizer = tf.keras.optimizers.RMSprop(learning_rate = 3e-4))"
      ]
    },
    {
      "cell_type": "code",
      "execution_count": 66,
      "metadata": {
        "colab": {
          "base_uri": "https://localhost:8080/"
        },
        "id": "hFblY0dGJozg",
        "outputId": "46593a10-a748-4c3b-aeec-62fff9282941"
      },
      "outputs": [
        {
          "output_type": "stream",
          "name": "stdout",
          "text": [
            "Epoch 1/300\n",
            "10/10 [==============================] - ETA: 0s - loss: 0.3265\n",
            "Epoch 1: val_loss improved from inf to 0.10398, saving model to ./drive/My Drive/PhD_Thesis/Generative_Models/dir_mnist_jsma.h5\n",
            "10/10 [==============================] - 30s 407ms/step - loss: 0.3265 - val_loss: 0.1040\n",
            "Epoch 2/300\n",
            "10/10 [==============================] - ETA: 0s - loss: 0.0783\n",
            "Epoch 2: val_loss improved from 0.10398 to 0.10382, saving model to ./drive/My Drive/PhD_Thesis/Generative_Models/dir_mnist_jsma.h5\n",
            "10/10 [==============================] - 2s 176ms/step - loss: 0.0783 - val_loss: 0.1038\n",
            "Epoch 3/300\n",
            "10/10 [==============================] - ETA: 0s - loss: 0.0729\n",
            "Epoch 3: val_loss improved from 0.10382 to 0.10118, saving model to ./drive/My Drive/PhD_Thesis/Generative_Models/dir_mnist_jsma.h5\n",
            "10/10 [==============================] - 2s 164ms/step - loss: 0.0729 - val_loss: 0.1012\n",
            "Epoch 4/300\n",
            "10/10 [==============================] - ETA: 0s - loss: 0.0645\n",
            "Epoch 4: val_loss improved from 0.10118 to 0.10059, saving model to ./drive/My Drive/PhD_Thesis/Generative_Models/dir_mnist_jsma.h5\n",
            "10/10 [==============================] - 2s 172ms/step - loss: 0.0645 - val_loss: 0.1006\n",
            "Epoch 5/300\n",
            "10/10 [==============================] - ETA: 0s - loss: 0.0732\n",
            "Epoch 5: val_loss improved from 0.10059 to 0.08817, saving model to ./drive/My Drive/PhD_Thesis/Generative_Models/dir_mnist_jsma.h5\n",
            "10/10 [==============================] - 2s 166ms/step - loss: 0.0732 - val_loss: 0.0882\n",
            "Epoch 6/300\n",
            "10/10 [==============================] - ETA: 0s - loss: 0.0589\n",
            "Epoch 6: val_loss improved from 0.08817 to 0.08378, saving model to ./drive/My Drive/PhD_Thesis/Generative_Models/dir_mnist_jsma.h5\n",
            "10/10 [==============================] - 2s 169ms/step - loss: 0.0589 - val_loss: 0.0838\n",
            "Epoch 7/300\n",
            "10/10 [==============================] - ETA: 0s - loss: 0.0857\n",
            "Epoch 7: val_loss did not improve from 0.08378\n",
            "10/10 [==============================] - 1s 105ms/step - loss: 0.0857 - val_loss: 0.0918\n",
            "Epoch 8/300\n",
            "10/10 [==============================] - ETA: 0s - loss: 0.0617\n",
            "Epoch 8: val_loss did not improve from 0.08378\n",
            "10/10 [==============================] - 1s 96ms/step - loss: 0.0617 - val_loss: 0.0877\n",
            "Epoch 9/300\n",
            "10/10 [==============================] - ETA: 0s - loss: 0.0517\n",
            "Epoch 9: val_loss did not improve from 0.08378\n",
            "10/10 [==============================] - 1s 95ms/step - loss: 0.0517 - val_loss: 0.0889\n",
            "Epoch 10/300\n",
            "10/10 [==============================] - ETA: 0s - loss: 0.0446\n",
            "Epoch 10: val_loss did not improve from 0.08378\n",
            "10/10 [==============================] - 1s 104ms/step - loss: 0.0446 - val_loss: 0.0848\n",
            "Epoch 11/300\n",
            "10/10 [==============================] - ETA: 0s - loss: 0.0457\n",
            "Epoch 11: val_loss improved from 0.08378 to 0.08018, saving model to ./drive/My Drive/PhD_Thesis/Generative_Models/dir_mnist_jsma.h5\n",
            "10/10 [==============================] - 2s 163ms/step - loss: 0.0457 - val_loss: 0.0802\n",
            "Epoch 12/300\n",
            "10/10 [==============================] - ETA: 0s - loss: 0.0402\n",
            "Epoch 12: val_loss did not improve from 0.08018\n",
            "10/10 [==============================] - 1s 97ms/step - loss: 0.0402 - val_loss: 0.0893\n",
            "Epoch 13/300\n",
            "10/10 [==============================] - ETA: 0s - loss: 0.0375\n",
            "Epoch 13: val_loss improved from 0.08018 to 0.07214, saving model to ./drive/My Drive/PhD_Thesis/Generative_Models/dir_mnist_jsma.h5\n",
            "10/10 [==============================] - 2s 162ms/step - loss: 0.0375 - val_loss: 0.0721\n",
            "Epoch 14/300\n",
            "10/10 [==============================] - ETA: 0s - loss: 0.0353\n",
            "Epoch 14: val_loss improved from 0.07214 to 0.07010, saving model to ./drive/My Drive/PhD_Thesis/Generative_Models/dir_mnist_jsma.h5\n",
            "10/10 [==============================] - 1s 158ms/step - loss: 0.0353 - val_loss: 0.0701\n",
            "Epoch 15/300\n",
            "10/10 [==============================] - ETA: 0s - loss: 0.0332\n",
            "Epoch 15: val_loss improved from 0.07010 to 0.06919, saving model to ./drive/My Drive/PhD_Thesis/Generative_Models/dir_mnist_jsma.h5\n",
            "10/10 [==============================] - 2s 173ms/step - loss: 0.0332 - val_loss: 0.0692\n",
            "Epoch 16/300\n",
            "10/10 [==============================] - ETA: 0s - loss: 0.0320\n",
            "Epoch 16: val_loss did not improve from 0.06919\n",
            "10/10 [==============================] - 1s 105ms/step - loss: 0.0320 - val_loss: 0.0696\n",
            "Epoch 17/300\n",
            "10/10 [==============================] - ETA: 0s - loss: 0.0301\n",
            "Epoch 17: val_loss did not improve from 0.06919\n",
            "10/10 [==============================] - 1s 96ms/step - loss: 0.0301 - val_loss: 0.0757\n",
            "Epoch 18/300\n",
            "10/10 [==============================] - ETA: 0s - loss: 0.0804\n",
            "Epoch 18: val_loss did not improve from 0.06919\n",
            "10/10 [==============================] - 1s 106ms/step - loss: 0.0804 - val_loss: 0.0842\n",
            "Epoch 19/300\n",
            "10/10 [==============================] - ETA: 0s - loss: 0.0315\n",
            "Epoch 19: val_loss did not improve from 0.06919\n",
            "10/10 [==============================] - 1s 97ms/step - loss: 0.0315 - val_loss: 0.0848\n",
            "Epoch 20/300\n",
            "10/10 [==============================] - ETA: 0s - loss: 0.0253\n",
            "Epoch 20: val_loss did not improve from 0.06919\n",
            "10/10 [==============================] - 1s 97ms/step - loss: 0.0253 - val_loss: 0.0831\n",
            "Epoch 21/300\n",
            "10/10 [==============================] - ETA: 0s - loss: 0.0253\n",
            "Epoch 21: val_loss did not improve from 0.06919\n",
            "10/10 [==============================] - 1s 97ms/step - loss: 0.0253 - val_loss: 0.0786\n",
            "Epoch 22/300\n",
            "10/10 [==============================] - ETA: 0s - loss: 0.0243\n",
            "Epoch 22: val_loss did not improve from 0.06919\n",
            "10/10 [==============================] - 1s 108ms/step - loss: 0.0243 - val_loss: 0.0839\n",
            "Epoch 23/300\n",
            "10/10 [==============================] - ETA: 0s - loss: 0.0230\n",
            "Epoch 23: val_loss did not improve from 0.06919\n",
            "10/10 [==============================] - 1s 107ms/step - loss: 0.0230 - val_loss: 0.0841\n",
            "Epoch 24/300\n",
            "10/10 [==============================] - ETA: 0s - loss: 0.0240\n",
            "Epoch 24: val_loss did not improve from 0.06919\n",
            "10/10 [==============================] - 1s 106ms/step - loss: 0.0240 - val_loss: 0.0818\n",
            "Epoch 25/300\n",
            "10/10 [==============================] - ETA: 0s - loss: 0.0220\n",
            "Epoch 25: val_loss did not improve from 0.06919\n",
            "10/10 [==============================] - 1s 106ms/step - loss: 0.0220 - val_loss: 0.0712\n",
            "Epoch 26/300\n",
            "10/10 [==============================] - ETA: 0s - loss: 0.0204\n",
            "Epoch 26: val_loss did not improve from 0.06919\n",
            "10/10 [==============================] - 1s 98ms/step - loss: 0.0204 - val_loss: 0.0867\n",
            "Epoch 27/300\n",
            "10/10 [==============================] - ETA: 0s - loss: 0.0231\n",
            "Epoch 27: val_loss did not improve from 0.06919\n",
            "10/10 [==============================] - 1s 106ms/step - loss: 0.0231 - val_loss: 0.0894\n",
            "Epoch 28/300\n",
            "10/10 [==============================] - ETA: 0s - loss: 0.0205\n",
            "Epoch 28: val_loss did not improve from 0.06919\n",
            "10/10 [==============================] - 1s 98ms/step - loss: 0.0205 - val_loss: 0.0769\n",
            "Epoch 29/300\n",
            "10/10 [==============================] - ETA: 0s - loss: 0.0294\n",
            "Epoch 29: val_loss did not improve from 0.06919\n",
            "10/10 [==============================] - 1s 106ms/step - loss: 0.0294 - val_loss: 0.1008\n",
            "Epoch 30/300\n",
            "10/10 [==============================] - ETA: 0s - loss: 0.0163\n",
            "Epoch 30: val_loss did not improve from 0.06919\n",
            "10/10 [==============================] - 1s 106ms/step - loss: 0.0163 - val_loss: 0.0884\n",
            "Epoch 31/300\n",
            "10/10 [==============================] - ETA: 0s - loss: 0.0146\n",
            "Epoch 31: val_loss did not improve from 0.06919\n",
            "10/10 [==============================] - 1s 107ms/step - loss: 0.0146 - val_loss: 0.0907\n",
            "Epoch 32/300\n",
            "10/10 [==============================] - ETA: 0s - loss: 0.0151\n",
            "Epoch 32: val_loss did not improve from 0.06919\n",
            "10/10 [==============================] - 1s 107ms/step - loss: 0.0151 - val_loss: 0.0891\n",
            "Epoch 33/300\n",
            "10/10 [==============================] - ETA: 0s - loss: 0.0178\n",
            "Epoch 33: val_loss improved from 0.06919 to 0.06810, saving model to ./drive/My Drive/PhD_Thesis/Generative_Models/dir_mnist_jsma.h5\n",
            "10/10 [==============================] - 3s 315ms/step - loss: 0.0178 - val_loss: 0.0681\n",
            "Epoch 34/300\n",
            "10/10 [==============================] - ETA: 0s - loss: 0.0136\n",
            "Epoch 34: val_loss did not improve from 0.06810\n",
            "10/10 [==============================] - 1s 110ms/step - loss: 0.0136 - val_loss: 0.0819\n",
            "Epoch 35/300\n",
            "10/10 [==============================] - ETA: 0s - loss: 0.0142\n",
            "Epoch 35: val_loss did not improve from 0.06810\n",
            "10/10 [==============================] - 1s 107ms/step - loss: 0.0142 - val_loss: 0.0856\n",
            "Epoch 36/300\n",
            "10/10 [==============================] - ETA: 0s - loss: 0.0157\n",
            "Epoch 36: val_loss did not improve from 0.06810\n",
            "10/10 [==============================] - 1s 107ms/step - loss: 0.0157 - val_loss: 0.0782\n",
            "Epoch 37/300\n",
            "10/10 [==============================] - ETA: 0s - loss: 0.0143\n",
            "Epoch 37: val_loss did not improve from 0.06810\n",
            "10/10 [==============================] - 1s 108ms/step - loss: 0.0143 - val_loss: 0.0835\n",
            "Epoch 38/300\n",
            "10/10 [==============================] - ETA: 0s - loss: 0.0148\n",
            "Epoch 38: val_loss did not improve from 0.06810\n",
            "10/10 [==============================] - 1s 107ms/step - loss: 0.0148 - val_loss: 0.0850\n",
            "Epoch 39/300\n",
            "10/10 [==============================] - ETA: 0s - loss: 0.0138\n",
            "Epoch 39: val_loss did not improve from 0.06810\n",
            "10/10 [==============================] - 1s 99ms/step - loss: 0.0138 - val_loss: 0.0811\n",
            "Epoch 40/300\n",
            "10/10 [==============================] - ETA: 0s - loss: 0.0131\n",
            "Epoch 40: val_loss did not improve from 0.06810\n",
            "10/10 [==============================] - 1s 98ms/step - loss: 0.0131 - val_loss: 0.0703\n",
            "Epoch 41/300\n",
            "10/10 [==============================] - ETA: 0s - loss: 0.0129\n",
            "Epoch 41: val_loss did not improve from 0.06810\n",
            "10/10 [==============================] - 1s 99ms/step - loss: 0.0129 - val_loss: 0.0780\n",
            "Epoch 42/300\n",
            "10/10 [==============================] - ETA: 0s - loss: 0.0134\n",
            "Epoch 42: val_loss improved from 0.06810 to 0.05101, saving model to ./drive/My Drive/PhD_Thesis/Generative_Models/dir_mnist_jsma.h5\n",
            "10/10 [==============================] - 2s 177ms/step - loss: 0.0134 - val_loss: 0.0510\n",
            "Epoch 43/300\n",
            "10/10 [==============================] - ETA: 0s - loss: 0.0103\n",
            "Epoch 43: val_loss did not improve from 0.05101\n",
            "10/10 [==============================] - 1s 100ms/step - loss: 0.0103 - val_loss: 0.0526\n",
            "Epoch 44/300\n",
            "10/10 [==============================] - ETA: 0s - loss: 0.0104\n",
            "Epoch 44: val_loss did not improve from 0.05101\n",
            "10/10 [==============================] - 1s 107ms/step - loss: 0.0104 - val_loss: 0.0529\n",
            "Epoch 45/300\n",
            "10/10 [==============================] - ETA: 0s - loss: 0.0093\n",
            "Epoch 45: val_loss did not improve from 0.05101\n",
            "10/10 [==============================] - 1s 107ms/step - loss: 0.0093 - val_loss: 0.0515\n",
            "Epoch 46/300\n",
            "10/10 [==============================] - ETA: 0s - loss: 0.0105\n",
            "Epoch 46: val_loss did not improve from 0.05101\n",
            "10/10 [==============================] - 1s 107ms/step - loss: 0.0105 - val_loss: 0.0611\n",
            "Epoch 47/300\n",
            "10/10 [==============================] - ETA: 0s - loss: 0.0168\n",
            "Epoch 47: val_loss improved from 0.05101 to 0.04518, saving model to ./drive/My Drive/PhD_Thesis/Generative_Models/dir_mnist_jsma.h5\n",
            "10/10 [==============================] - 2s 165ms/step - loss: 0.0168 - val_loss: 0.0452\n",
            "Epoch 48/300\n",
            "10/10 [==============================] - ETA: 0s - loss: 0.0077\n",
            "Epoch 48: val_loss did not improve from 0.04518\n",
            "10/10 [==============================] - 1s 107ms/step - loss: 0.0077 - val_loss: 0.0462\n",
            "Epoch 49/300\n",
            "10/10 [==============================] - ETA: 0s - loss: 0.0073\n",
            "Epoch 49: val_loss did not improve from 0.04518\n",
            "10/10 [==============================] - 1s 99ms/step - loss: 0.0073 - val_loss: 0.0486\n",
            "Epoch 50/300\n",
            "10/10 [==============================] - ETA: 0s - loss: 0.0075\n",
            "Epoch 50: val_loss improved from 0.04518 to 0.04365, saving model to ./drive/My Drive/PhD_Thesis/Generative_Models/dir_mnist_jsma.h5\n",
            "10/10 [==============================] - 2s 172ms/step - loss: 0.0075 - val_loss: 0.0436\n",
            "Epoch 51/300\n",
            "10/10 [==============================] - ETA: 0s - loss: 0.0078\n",
            "Epoch 51: val_loss improved from 0.04365 to 0.04062, saving model to ./drive/My Drive/PhD_Thesis/Generative_Models/dir_mnist_jsma.h5\n",
            "10/10 [==============================] - 2s 161ms/step - loss: 0.0078 - val_loss: 0.0406\n",
            "Epoch 52/300\n",
            "10/10 [==============================] - ETA: 0s - loss: 0.0083\n",
            "Epoch 52: val_loss improved from 0.04062 to 0.03889, saving model to ./drive/My Drive/PhD_Thesis/Generative_Models/dir_mnist_jsma.h5\n",
            "10/10 [==============================] - 2s 163ms/step - loss: 0.0083 - val_loss: 0.0389\n",
            "Epoch 53/300\n",
            "10/10 [==============================] - ETA: 0s - loss: 0.0083\n",
            "Epoch 53: val_loss improved from 0.03889 to 0.03563, saving model to ./drive/My Drive/PhD_Thesis/Generative_Models/dir_mnist_jsma.h5\n",
            "10/10 [==============================] - 2s 175ms/step - loss: 0.0083 - val_loss: 0.0356\n",
            "Epoch 54/300\n",
            "10/10 [==============================] - ETA: 0s - loss: 0.0071\n",
            "Epoch 54: val_loss improved from 0.03563 to 0.02914, saving model to ./drive/My Drive/PhD_Thesis/Generative_Models/dir_mnist_jsma.h5\n",
            "10/10 [==============================] - 1s 158ms/step - loss: 0.0071 - val_loss: 0.0291\n",
            "Epoch 55/300\n",
            "10/10 [==============================] - ETA: 0s - loss: 0.0088\n",
            "Epoch 55: val_loss did not improve from 0.02914\n",
            "10/10 [==============================] - 1s 106ms/step - loss: 0.0088 - val_loss: 0.0333\n",
            "Epoch 56/300\n",
            "10/10 [==============================] - ETA: 0s - loss: 0.0106\n",
            "Epoch 56: val_loss improved from 0.02914 to 0.01619, saving model to ./drive/My Drive/PhD_Thesis/Generative_Models/dir_mnist_jsma.h5\n",
            "10/10 [==============================] - 2s 162ms/step - loss: 0.0106 - val_loss: 0.0162\n",
            "Epoch 57/300\n",
            "10/10 [==============================] - ETA: 0s - loss: 0.0064\n",
            "Epoch 57: val_loss did not improve from 0.01619\n",
            "10/10 [==============================] - 1s 106ms/step - loss: 0.0064 - val_loss: 0.0202\n",
            "Epoch 58/300\n",
            "10/10 [==============================] - ETA: 0s - loss: 0.0070\n",
            "Epoch 58: val_loss did not improve from 0.01619\n",
            "10/10 [==============================] - 1s 98ms/step - loss: 0.0070 - val_loss: 0.0177\n",
            "Epoch 59/300\n",
            "10/10 [==============================] - ETA: 0s - loss: 0.0075\n",
            "Epoch 59: val_loss did not improve from 0.01619\n",
            "10/10 [==============================] - 1s 97ms/step - loss: 0.0075 - val_loss: 0.0197\n",
            "Epoch 60/300\n",
            "10/10 [==============================] - ETA: 0s - loss: 0.0069\n",
            "Epoch 60: val_loss improved from 0.01619 to 0.01464, saving model to ./drive/My Drive/PhD_Thesis/Generative_Models/dir_mnist_jsma.h5\n",
            "10/10 [==============================] - 2s 166ms/step - loss: 0.0069 - val_loss: 0.0146\n",
            "Epoch 61/300\n",
            "10/10 [==============================] - ETA: 0s - loss: 0.0079\n",
            "Epoch 61: val_loss improved from 0.01464 to 0.01378, saving model to ./drive/My Drive/PhD_Thesis/Generative_Models/dir_mnist_jsma.h5\n",
            "10/10 [==============================] - 2s 162ms/step - loss: 0.0079 - val_loss: 0.0138\n",
            "Epoch 62/300\n",
            "10/10 [==============================] - ETA: 0s - loss: 0.0114\n",
            "Epoch 62: val_loss improved from 0.01378 to 0.00541, saving model to ./drive/My Drive/PhD_Thesis/Generative_Models/dir_mnist_jsma.h5\n",
            "10/10 [==============================] - 2s 169ms/step - loss: 0.0114 - val_loss: 0.0054\n",
            "Epoch 63/300\n",
            "10/10 [==============================] - ETA: 0s - loss: 0.0051\n",
            "Epoch 63: val_loss did not improve from 0.00541\n",
            "10/10 [==============================] - 1s 105ms/step - loss: 0.0051 - val_loss: 0.0054\n",
            "Epoch 64/300\n",
            "10/10 [==============================] - ETA: 0s - loss: 0.0055\n",
            "Epoch 64: val_loss did not improve from 0.00541\n",
            "10/10 [==============================] - 1s 97ms/step - loss: 0.0055 - val_loss: 0.0091\n",
            "Epoch 65/300\n",
            "10/10 [==============================] - ETA: 0s - loss: 0.0058\n",
            "Epoch 65: val_loss did not improve from 0.00541\n",
            "10/10 [==============================] - 1s 106ms/step - loss: 0.0058 - val_loss: 0.0088\n",
            "Epoch 66/300\n",
            "10/10 [==============================] - ETA: 0s - loss: 0.0063\n",
            "Epoch 66: val_loss did not improve from 0.00541\n",
            "10/10 [==============================] - 1s 97ms/step - loss: 0.0063 - val_loss: 0.0114\n",
            "Epoch 67/300\n",
            "10/10 [==============================] - ETA: 0s - loss: 0.0059\n",
            "Epoch 67: val_loss did not improve from 0.00541\n",
            "10/10 [==============================] - 1s 97ms/step - loss: 0.0059 - val_loss: 0.0062\n",
            "Epoch 68/300\n",
            "10/10 [==============================] - ETA: 0s - loss: 0.0075\n",
            "Epoch 68: val_loss did not improve from 0.00541\n",
            "10/10 [==============================] - 1s 106ms/step - loss: 0.0075 - val_loss: 0.0069\n",
            "Epoch 69/300\n",
            "10/10 [==============================] - ETA: 0s - loss: 0.0053\n",
            "Epoch 69: val_loss did not improve from 0.00541\n",
            "10/10 [==============================] - 1s 97ms/step - loss: 0.0053 - val_loss: 0.0078\n",
            "Epoch 70/300\n",
            "10/10 [==============================] - ETA: 0s - loss: 0.0068\n",
            "Epoch 70: val_loss improved from 0.00541 to 0.00519, saving model to ./drive/My Drive/PhD_Thesis/Generative_Models/dir_mnist_jsma.h5\n",
            "10/10 [==============================] - 2s 167ms/step - loss: 0.0068 - val_loss: 0.0052\n",
            "Epoch 71/300\n",
            "10/10 [==============================] - ETA: 0s - loss: 0.0057\n",
            "Epoch 71: val_loss improved from 0.00519 to 0.00487, saving model to ./drive/My Drive/PhD_Thesis/Generative_Models/dir_mnist_jsma.h5\n",
            "10/10 [==============================] - 2s 161ms/step - loss: 0.0057 - val_loss: 0.0049\n",
            "Epoch 72/300\n",
            "10/10 [==============================] - ETA: 0s - loss: 0.0054\n",
            "Epoch 72: val_loss did not improve from 0.00487\n",
            "10/10 [==============================] - 1s 107ms/step - loss: 0.0054 - val_loss: 0.0080\n",
            "Epoch 73/300\n",
            "10/10 [==============================] - ETA: 0s - loss: 0.0056\n",
            "Epoch 73: val_loss did not improve from 0.00487\n",
            "10/10 [==============================] - 1s 108ms/step - loss: 0.0056 - val_loss: 0.0063\n",
            "Epoch 74/300\n",
            "10/10 [==============================] - ETA: 0s - loss: 0.0050\n",
            "Epoch 74: val_loss did not improve from 0.00487\n",
            "10/10 [==============================] - 1s 108ms/step - loss: 0.0050 - val_loss: 0.0061\n",
            "Epoch 75/300\n",
            "10/10 [==============================] - ETA: 0s - loss: 0.0058\n",
            "Epoch 75: val_loss improved from 0.00487 to 0.00461, saving model to ./drive/My Drive/PhD_Thesis/Generative_Models/dir_mnist_jsma.h5\n",
            "10/10 [==============================] - 2s 185ms/step - loss: 0.0058 - val_loss: 0.0046\n",
            "Epoch 76/300\n",
            "10/10 [==============================] - ETA: 0s - loss: 0.0052\n",
            "Epoch 76: val_loss did not improve from 0.00461\n",
            "10/10 [==============================] - 1s 98ms/step - loss: 0.0052 - val_loss: 0.0109\n",
            "Epoch 77/300\n",
            "10/10 [==============================] - ETA: 0s - loss: 0.0048\n",
            "Epoch 77: val_loss improved from 0.00461 to 0.00422, saving model to ./drive/My Drive/PhD_Thesis/Generative_Models/dir_mnist_jsma.h5\n",
            "10/10 [==============================] - 2s 165ms/step - loss: 0.0048 - val_loss: 0.0042\n",
            "Epoch 78/300\n",
            "10/10 [==============================] - ETA: 0s - loss: 0.0056\n",
            "Epoch 78: val_loss did not improve from 0.00422\n",
            "10/10 [==============================] - 1s 97ms/step - loss: 0.0056 - val_loss: 0.0045\n",
            "Epoch 79/300\n",
            "10/10 [==============================] - ETA: 0s - loss: 0.0041\n",
            "Epoch 79: val_loss did not improve from 0.00422\n",
            "10/10 [==============================] - 1s 97ms/step - loss: 0.0041 - val_loss: 0.0045\n",
            "Epoch 80/300\n",
            "10/10 [==============================] - ETA: 0s - loss: 0.0046\n",
            "Epoch 80: val_loss improved from 0.00422 to 0.00386, saving model to ./drive/My Drive/PhD_Thesis/Generative_Models/dir_mnist_jsma.h5\n",
            "10/10 [==============================] - 2s 163ms/step - loss: 0.0046 - val_loss: 0.0039\n",
            "Epoch 81/300\n",
            "10/10 [==============================] - ETA: 0s - loss: 0.0046\n",
            "Epoch 81: val_loss did not improve from 0.00386\n",
            "10/10 [==============================] - 1s 106ms/step - loss: 0.0046 - val_loss: 0.0043\n",
            "Epoch 82/300\n",
            "10/10 [==============================] - ETA: 0s - loss: 0.0043\n",
            "Epoch 82: val_loss improved from 0.00386 to 0.00374, saving model to ./drive/My Drive/PhD_Thesis/Generative_Models/dir_mnist_jsma.h5\n",
            "10/10 [==============================] - 2s 162ms/step - loss: 0.0043 - val_loss: 0.0037\n",
            "Epoch 83/300\n",
            "10/10 [==============================] - ETA: 0s - loss: 0.0041\n",
            "Epoch 83: val_loss did not improve from 0.00374\n",
            "10/10 [==============================] - 1s 107ms/step - loss: 0.0041 - val_loss: 0.0038\n",
            "Epoch 84/300\n",
            "10/10 [==============================] - ETA: 0s - loss: 0.0035\n",
            "Epoch 84: val_loss did not improve from 0.00374\n",
            "10/10 [==============================] - 1s 99ms/step - loss: 0.0035 - val_loss: 0.0050\n",
            "Epoch 85/300\n",
            "10/10 [==============================] - ETA: 0s - loss: 0.0043\n",
            "Epoch 85: val_loss improved from 0.00374 to 0.00373, saving model to ./drive/My Drive/PhD_Thesis/Generative_Models/dir_mnist_jsma.h5\n",
            "10/10 [==============================] - 2s 171ms/step - loss: 0.0043 - val_loss: 0.0037\n",
            "Epoch 86/300\n",
            "10/10 [==============================] - ETA: 0s - loss: 0.0039\n",
            "Epoch 86: val_loss improved from 0.00373 to 0.00334, saving model to ./drive/My Drive/PhD_Thesis/Generative_Models/dir_mnist_jsma.h5\n",
            "10/10 [==============================] - 2s 170ms/step - loss: 0.0039 - val_loss: 0.0033\n",
            "Epoch 87/300\n",
            "10/10 [==============================] - ETA: 0s - loss: 0.0032\n",
            "Epoch 87: val_loss improved from 0.00334 to 0.00299, saving model to ./drive/My Drive/PhD_Thesis/Generative_Models/dir_mnist_jsma.h5\n",
            "10/10 [==============================] - 2s 162ms/step - loss: 0.0032 - val_loss: 0.0030\n",
            "Epoch 88/300\n",
            "10/10 [==============================] - ETA: 0s - loss: 0.0036\n",
            "Epoch 88: val_loss did not improve from 0.00299\n",
            "10/10 [==============================] - 1s 98ms/step - loss: 0.0036 - val_loss: 0.0032\n",
            "Epoch 89/300\n",
            "10/10 [==============================] - ETA: 0s - loss: 0.0033\n",
            "Epoch 89: val_loss did not improve from 0.00299\n",
            "10/10 [==============================] - 1s 106ms/step - loss: 0.0033 - val_loss: 0.0036\n",
            "Epoch 90/300\n",
            "10/10 [==============================] - ETA: 0s - loss: 0.0036\n",
            "Epoch 90: val_loss did not improve from 0.00299\n",
            "10/10 [==============================] - 1s 98ms/step - loss: 0.0036 - val_loss: 0.0045\n",
            "Epoch 91/300\n",
            "10/10 [==============================] - ETA: 0s - loss: 0.0037\n",
            "Epoch 91: val_loss improved from 0.00299 to 0.00292, saving model to ./drive/My Drive/PhD_Thesis/Generative_Models/dir_mnist_jsma.h5\n",
            "10/10 [==============================] - 2s 172ms/step - loss: 0.0037 - val_loss: 0.0029\n",
            "Epoch 92/300\n",
            "10/10 [==============================] - ETA: 0s - loss: 0.0028\n",
            "Epoch 92: val_loss improved from 0.00292 to 0.00282, saving model to ./drive/My Drive/PhD_Thesis/Generative_Models/dir_mnist_jsma.h5\n",
            "10/10 [==============================] - 2s 169ms/step - loss: 0.0028 - val_loss: 0.0028\n",
            "Epoch 93/300\n",
            "10/10 [==============================] - ETA: 0s - loss: 0.0030\n",
            "Epoch 93: val_loss did not improve from 0.00282\n",
            "10/10 [==============================] - 1s 106ms/step - loss: 0.0030 - val_loss: 0.0055\n",
            "Epoch 94/300\n",
            "10/10 [==============================] - ETA: 0s - loss: 0.0032\n",
            "Epoch 94: val_loss did not improve from 0.00282\n",
            "10/10 [==============================] - 1s 99ms/step - loss: 0.0032 - val_loss: 0.0037\n",
            "Epoch 95/300\n",
            "10/10 [==============================] - ETA: 0s - loss: 0.0030\n",
            "Epoch 95: val_loss did not improve from 0.00282\n",
            "10/10 [==============================] - 1s 97ms/step - loss: 0.0030 - val_loss: 0.0032\n",
            "Epoch 96/300\n",
            "10/10 [==============================] - ETA: 0s - loss: 0.0031\n",
            "Epoch 96: val_loss did not improve from 0.00282\n",
            "10/10 [==============================] - 1s 107ms/step - loss: 0.0031 - val_loss: 0.0039\n",
            "Epoch 97/300\n",
            "10/10 [==============================] - ETA: 0s - loss: 0.0028\n",
            "Epoch 97: val_loss improved from 0.00282 to 0.00279, saving model to ./drive/My Drive/PhD_Thesis/Generative_Models/dir_mnist_jsma.h5\n",
            "10/10 [==============================] - 2s 166ms/step - loss: 0.0028 - val_loss: 0.0028\n",
            "Epoch 98/300\n",
            "10/10 [==============================] - ETA: 0s - loss: 0.0026\n",
            "Epoch 98: val_loss improved from 0.00279 to 0.00186, saving model to ./drive/My Drive/PhD_Thesis/Generative_Models/dir_mnist_jsma.h5\n",
            "10/10 [==============================] - 2s 162ms/step - loss: 0.0026 - val_loss: 0.0019\n",
            "Epoch 99/300\n",
            "10/10 [==============================] - ETA: 0s - loss: 0.0025\n",
            "Epoch 99: val_loss did not improve from 0.00186\n",
            "10/10 [==============================] - 1s 98ms/step - loss: 0.0025 - val_loss: 0.0025\n",
            "Epoch 100/300\n",
            "10/10 [==============================] - ETA: 0s - loss: 0.0028\n",
            "Epoch 100: val_loss did not improve from 0.00186\n",
            "10/10 [==============================] - 1s 107ms/step - loss: 0.0028 - val_loss: 0.0025\n",
            "Epoch 101/300\n",
            "10/10 [==============================] - ETA: 0s - loss: 0.0024\n",
            "Epoch 101: val_loss did not improve from 0.00186\n",
            "10/10 [==============================] - 1s 107ms/step - loss: 0.0024 - val_loss: 0.0023\n",
            "Epoch 102/300\n",
            "10/10 [==============================] - ETA: 0s - loss: 0.0035\n",
            "Epoch 102: val_loss did not improve from 0.00186\n",
            "10/10 [==============================] - 1s 98ms/step - loss: 0.0035 - val_loss: 0.0031\n",
            "Epoch 103/300\n",
            "10/10 [==============================] - ETA: 0s - loss: 0.0020\n",
            "Epoch 103: val_loss improved from 0.00186 to 0.00170, saving model to ./drive/My Drive/PhD_Thesis/Generative_Models/dir_mnist_jsma.h5\n",
            "10/10 [==============================] - 2s 166ms/step - loss: 0.0020 - val_loss: 0.0017\n",
            "Epoch 104/300\n",
            "10/10 [==============================] - ETA: 0s - loss: 0.0017\n",
            "Epoch 104: val_loss did not improve from 0.00170\n",
            "10/10 [==============================] - 1s 99ms/step - loss: 0.0017 - val_loss: 0.0022\n",
            "Epoch 105/300\n",
            "10/10 [==============================] - ETA: 0s - loss: 0.0021\n",
            "Epoch 105: val_loss did not improve from 0.00170\n",
            "10/10 [==============================] - 1s 98ms/step - loss: 0.0021 - val_loss: 0.0024\n",
            "Epoch 106/300\n",
            "10/10 [==============================] - ETA: 0s - loss: 0.0024\n",
            "Epoch 106: val_loss did not improve from 0.00170\n",
            "10/10 [==============================] - 1s 98ms/step - loss: 0.0024 - val_loss: 0.0018\n",
            "Epoch 107/300\n",
            "10/10 [==============================] - ETA: 0s - loss: 0.0018\n",
            "Epoch 107: val_loss did not improve from 0.00170\n",
            "10/10 [==============================] - 1s 98ms/step - loss: 0.0018 - val_loss: 0.0022\n",
            "Epoch 108/300\n",
            "10/10 [==============================] - ETA: 0s - loss: 0.0024\n",
            "Epoch 108: val_loss improved from 0.00170 to 0.00169, saving model to ./drive/My Drive/PhD_Thesis/Generative_Models/dir_mnist_jsma.h5\n",
            "10/10 [==============================] - 2s 172ms/step - loss: 0.0024 - val_loss: 0.0017\n",
            "Epoch 109/300\n",
            "10/10 [==============================] - ETA: 0s - loss: 0.0022\n",
            "Epoch 109: val_loss did not improve from 0.00169\n",
            "10/10 [==============================] - 1s 107ms/step - loss: 0.0022 - val_loss: 0.0021\n",
            "Epoch 110/300\n",
            "10/10 [==============================] - ETA: 0s - loss: 0.0020\n",
            "Epoch 110: val_loss improved from 0.00169 to 0.00141, saving model to ./drive/My Drive/PhD_Thesis/Generative_Models/dir_mnist_jsma.h5\n",
            "10/10 [==============================] - 2s 171ms/step - loss: 0.0020 - val_loss: 0.0014\n",
            "Epoch 111/300\n",
            "10/10 [==============================] - ETA: 0s - loss: 0.0017\n",
            "Epoch 111: val_loss did not improve from 0.00141\n",
            "10/10 [==============================] - 1s 108ms/step - loss: 0.0017 - val_loss: 0.0026\n",
            "Epoch 112/300\n",
            "10/10 [==============================] - ETA: 0s - loss: 0.0023\n",
            "Epoch 112: val_loss did not improve from 0.00141\n",
            "10/10 [==============================] - 1s 107ms/step - loss: 0.0023 - val_loss: 0.0019\n",
            "Epoch 113/300\n",
            "10/10 [==============================] - ETA: 0s - loss: 0.0020\n",
            "Epoch 113: val_loss did not improve from 0.00141\n",
            "10/10 [==============================] - 1s 107ms/step - loss: 0.0020 - val_loss: 0.0017\n",
            "Epoch 114/300\n",
            "10/10 [==============================] - ETA: 0s - loss: 0.0017\n",
            "Epoch 114: val_loss did not improve from 0.00141\n",
            "10/10 [==============================] - 1s 98ms/step - loss: 0.0017 - val_loss: 0.0018\n",
            "Epoch 115/300\n",
            "10/10 [==============================] - ETA: 0s - loss: 0.0018\n",
            "Epoch 115: val_loss did not improve from 0.00141\n",
            "10/10 [==============================] - 1s 97ms/step - loss: 0.0018 - val_loss: 0.0024\n",
            "Epoch 116/300\n",
            "10/10 [==============================] - ETA: 0s - loss: 0.0017\n",
            "Epoch 116: val_loss did not improve from 0.00141\n",
            "10/10 [==============================] - 1s 106ms/step - loss: 0.0017 - val_loss: 0.0022\n",
            "Epoch 117/300\n",
            "10/10 [==============================] - ETA: 0s - loss: 0.0018\n",
            "Epoch 117: val_loss did not improve from 0.00141\n",
            "10/10 [==============================] - 1s 99ms/step - loss: 0.0018 - val_loss: 0.0018\n",
            "Epoch 118/300\n",
            "10/10 [==============================] - ETA: 0s - loss: 0.0018\n",
            "Epoch 118: val_loss did not improve from 0.00141\n",
            "10/10 [==============================] - 1s 100ms/step - loss: 0.0018 - val_loss: 0.0014\n",
            "Epoch 119/300\n",
            "10/10 [==============================] - ETA: 0s - loss: 0.0014\n",
            "Epoch 119: val_loss improved from 0.00141 to 0.00138, saving model to ./drive/My Drive/PhD_Thesis/Generative_Models/dir_mnist_jsma.h5\n",
            "10/10 [==============================] - 2s 191ms/step - loss: 0.0014 - val_loss: 0.0014\n",
            "Epoch 120/300\n",
            "10/10 [==============================] - ETA: 0s - loss: 0.0015\n",
            "Epoch 120: val_loss did not improve from 0.00138\n",
            "10/10 [==============================] - 1s 98ms/step - loss: 0.0015 - val_loss: 0.0021\n",
            "Epoch 121/300\n",
            "10/10 [==============================] - ETA: 0s - loss: 0.0015\n",
            "Epoch 121: val_loss did not improve from 0.00138\n",
            "10/10 [==============================] - 1s 98ms/step - loss: 0.0015 - val_loss: 0.0015\n",
            "Epoch 122/300\n",
            "10/10 [==============================] - ETA: 0s - loss: 0.0019\n",
            "Epoch 122: val_loss did not improve from 0.00138\n",
            "10/10 [==============================] - 1s 98ms/step - loss: 0.0019 - val_loss: 0.0014\n",
            "Epoch 123/300\n",
            "10/10 [==============================] - ETA: 0s - loss: 0.0014\n",
            "Epoch 123: val_loss improved from 0.00138 to 0.00122, saving model to ./drive/My Drive/PhD_Thesis/Generative_Models/dir_mnist_jsma.h5\n",
            "10/10 [==============================] - 2s 166ms/step - loss: 0.0014 - val_loss: 0.0012\n",
            "Epoch 124/300\n",
            "10/10 [==============================] - ETA: 0s - loss: 0.0013\n",
            "Epoch 124: val_loss did not improve from 0.00122\n",
            "10/10 [==============================] - 1s 107ms/step - loss: 0.0013 - val_loss: 0.0016\n",
            "Epoch 125/300\n",
            "10/10 [==============================] - ETA: 0s - loss: 0.0015\n",
            "Epoch 125: val_loss improved from 0.00122 to 0.00118, saving model to ./drive/My Drive/PhD_Thesis/Generative_Models/dir_mnist_jsma.h5\n",
            "10/10 [==============================] - 2s 176ms/step - loss: 0.0015 - val_loss: 0.0012\n",
            "Epoch 126/300\n",
            "10/10 [==============================] - ETA: 0s - loss: 0.0012\n",
            "Epoch 126: val_loss did not improve from 0.00118\n",
            "10/10 [==============================] - 1s 107ms/step - loss: 0.0012 - val_loss: 0.0015\n",
            "Epoch 127/300\n",
            "10/10 [==============================] - ETA: 0s - loss: 0.0016\n",
            "Epoch 127: val_loss did not improve from 0.00118\n",
            "10/10 [==============================] - 1s 106ms/step - loss: 0.0016 - val_loss: 0.0014\n",
            "Epoch 128/300\n",
            "10/10 [==============================] - ETA: 0s - loss: 0.0015\n",
            "Epoch 128: val_loss improved from 0.00118 to 0.00109, saving model to ./drive/My Drive/PhD_Thesis/Generative_Models/dir_mnist_jsma.h5\n",
            "10/10 [==============================] - 2s 180ms/step - loss: 0.0015 - val_loss: 0.0011\n",
            "Epoch 129/300\n",
            "10/10 [==============================] - ETA: 0s - loss: 0.0012\n",
            "Epoch 129: val_loss did not improve from 0.00109\n",
            "10/10 [==============================] - 1s 106ms/step - loss: 0.0012 - val_loss: 0.0021\n",
            "Epoch 130/300\n",
            "10/10 [==============================] - ETA: 0s - loss: 0.0014\n",
            "Epoch 130: val_loss did not improve from 0.00109\n",
            "10/10 [==============================] - 1s 107ms/step - loss: 0.0014 - val_loss: 0.0012\n",
            "Epoch 131/300\n",
            "10/10 [==============================] - ETA: 0s - loss: 0.0013\n",
            "Epoch 131: val_loss improved from 0.00109 to 0.00108, saving model to ./drive/My Drive/PhD_Thesis/Generative_Models/dir_mnist_jsma.h5\n",
            "10/10 [==============================] - 2s 175ms/step - loss: 0.0013 - val_loss: 0.0011\n",
            "Epoch 132/300\n",
            "10/10 [==============================] - ETA: 0s - loss: 0.0011\n",
            "Epoch 132: val_loss improved from 0.00108 to 0.00102, saving model to ./drive/My Drive/PhD_Thesis/Generative_Models/dir_mnist_jsma.h5\n",
            "10/10 [==============================] - 2s 169ms/step - loss: 0.0011 - val_loss: 0.0010\n",
            "Epoch 133/300\n",
            "10/10 [==============================] - ETA: 0s - loss: 0.0013\n",
            "Epoch 133: val_loss did not improve from 0.00102\n",
            "10/10 [==============================] - 1s 107ms/step - loss: 0.0013 - val_loss: 0.0012\n",
            "Epoch 134/300\n",
            "10/10 [==============================] - ETA: 0s - loss: 0.0013\n",
            "Epoch 134: val_loss did not improve from 0.00102\n",
            "10/10 [==============================] - 1s 98ms/step - loss: 0.0013 - val_loss: 0.0013\n",
            "Epoch 135/300\n",
            "10/10 [==============================] - ETA: 0s - loss: 0.0011\n",
            "Epoch 135: val_loss did not improve from 0.00102\n",
            "10/10 [==============================] - 1s 106ms/step - loss: 0.0011 - val_loss: 0.0015\n",
            "Epoch 136/300\n",
            "10/10 [==============================] - ETA: 0s - loss: 0.0012\n",
            "Epoch 136: val_loss did not improve from 0.00102\n",
            "10/10 [==============================] - 1s 98ms/step - loss: 0.0012 - val_loss: 0.0012\n",
            "Epoch 137/300\n",
            "10/10 [==============================] - ETA: 0s - loss: 0.0011\n",
            "Epoch 137: val_loss improved from 0.00102 to 0.00092, saving model to ./drive/My Drive/PhD_Thesis/Generative_Models/dir_mnist_jsma.h5\n",
            "10/10 [==============================] - 2s 164ms/step - loss: 0.0011 - val_loss: 9.2004e-04\n",
            "Epoch 138/300\n",
            "10/10 [==============================] - ETA: 0s - loss: 0.0012\n",
            "Epoch 138: val_loss did not improve from 0.00092\n",
            "10/10 [==============================] - 1s 97ms/step - loss: 0.0012 - val_loss: 0.0016\n",
            "Epoch 139/300\n",
            "10/10 [==============================] - ETA: 0s - loss: 0.0011\n",
            "Epoch 139: val_loss did not improve from 0.00092\n",
            "10/10 [==============================] - 1s 107ms/step - loss: 0.0011 - val_loss: 0.0011\n",
            "Epoch 140/300\n",
            "10/10 [==============================] - ETA: 0s - loss: 0.0012\n",
            "Epoch 140: val_loss did not improve from 0.00092\n",
            "10/10 [==============================] - 1s 98ms/step - loss: 0.0012 - val_loss: 0.0011\n",
            "Epoch 141/300\n",
            "10/10 [==============================] - ETA: 0s - loss: 0.0011\n",
            "Epoch 141: val_loss improved from 0.00092 to 0.00090, saving model to ./drive/My Drive/PhD_Thesis/Generative_Models/dir_mnist_jsma.h5\n",
            "10/10 [==============================] - 2s 175ms/step - loss: 0.0011 - val_loss: 8.9808e-04\n",
            "Epoch 142/300\n",
            "10/10 [==============================] - ETA: 0s - loss: 0.0015\n",
            "Epoch 142: val_loss improved from 0.00090 to 0.00088, saving model to ./drive/My Drive/PhD_Thesis/Generative_Models/dir_mnist_jsma.h5\n",
            "10/10 [==============================] - 2s 160ms/step - loss: 0.0015 - val_loss: 8.8054e-04\n",
            "Epoch 143/300\n",
            "10/10 [==============================] - ETA: 0s - loss: 0.0013\n",
            "Epoch 143: val_loss did not improve from 0.00088\n",
            "10/10 [==============================] - 1s 106ms/step - loss: 0.0013 - val_loss: 0.0012\n",
            "Epoch 144/300\n",
            "10/10 [==============================] - ETA: 0s - loss: 7.9762e-04\n",
            "Epoch 144: val_loss improved from 0.00088 to 0.00058, saving model to ./drive/My Drive/PhD_Thesis/Generative_Models/dir_mnist_jsma.h5\n",
            "10/10 [==============================] - 1s 159ms/step - loss: 7.9762e-04 - val_loss: 5.7549e-04\n",
            "Epoch 145/300\n",
            "10/10 [==============================] - ETA: 0s - loss: 5.9213e-04\n",
            "Epoch 145: val_loss did not improve from 0.00058\n",
            "10/10 [==============================] - 1s 106ms/step - loss: 5.9213e-04 - val_loss: 6.1799e-04\n",
            "Epoch 146/300\n",
            "10/10 [==============================] - ETA: 0s - loss: 7.9178e-04\n",
            "Epoch 146: val_loss did not improve from 0.00058\n",
            "10/10 [==============================] - 1s 107ms/step - loss: 7.9178e-04 - val_loss: 9.8326e-04\n",
            "Epoch 147/300\n",
            "10/10 [==============================] - ETA: 0s - loss: 9.0286e-04\n",
            "Epoch 147: val_loss did not improve from 0.00058\n",
            "10/10 [==============================] - 1s 107ms/step - loss: 9.0286e-04 - val_loss: 7.9731e-04\n",
            "Epoch 148/300\n",
            "10/10 [==============================] - ETA: 0s - loss: 0.0011\n",
            "Epoch 148: val_loss did not improve from 0.00058\n",
            "10/10 [==============================] - 1s 106ms/step - loss: 0.0011 - val_loss: 8.8939e-04\n",
            "Epoch 149/300\n",
            "10/10 [==============================] - ETA: 0s - loss: 0.0010\n",
            "Epoch 149: val_loss did not improve from 0.00058\n",
            "10/10 [==============================] - 1s 106ms/step - loss: 0.0010 - val_loss: 7.2016e-04\n",
            "Epoch 150/300\n",
            "10/10 [==============================] - ETA: 0s - loss: 9.9759e-04\n",
            "Epoch 150: val_loss did not improve from 0.00058\n",
            "10/10 [==============================] - 1s 107ms/step - loss: 9.9759e-04 - val_loss: 0.0011\n",
            "Epoch 151/300\n",
            "10/10 [==============================] - ETA: 0s - loss: 0.0011\n",
            "Epoch 151: val_loss did not improve from 0.00058\n",
            "10/10 [==============================] - 1s 107ms/step - loss: 0.0011 - val_loss: 7.9923e-04\n",
            "Epoch 152/300\n",
            "10/10 [==============================] - ETA: 0s - loss: 8.9645e-04\n",
            "Epoch 152: val_loss did not improve from 0.00058\n",
            "10/10 [==============================] - 1s 97ms/step - loss: 8.9645e-04 - val_loss: 8.0725e-04\n",
            "Epoch 153/300\n",
            "10/10 [==============================] - ETA: 0s - loss: 9.3023e-04\n",
            "Epoch 153: val_loss did not improve from 0.00058\n",
            "10/10 [==============================] - 1s 107ms/step - loss: 9.3023e-04 - val_loss: 7.8177e-04\n",
            "Epoch 154/300\n",
            "10/10 [==============================] - ETA: 0s - loss: 9.2985e-04\n",
            "Epoch 154: val_loss did not improve from 0.00058\n",
            "10/10 [==============================] - 1s 100ms/step - loss: 9.2985e-04 - val_loss: 9.7892e-04\n",
            "Epoch 155/300\n",
            "10/10 [==============================] - ETA: 0s - loss: 9.4978e-04\n",
            "Epoch 155: val_loss did not improve from 0.00058\n",
            "10/10 [==============================] - 1s 99ms/step - loss: 9.4978e-04 - val_loss: 6.7199e-04\n",
            "Epoch 156/300\n",
            "10/10 [==============================] - ETA: 0s - loss: 0.0010    \n",
            "Epoch 156: val_loss did not improve from 0.00058\n",
            "10/10 [==============================] - 1s 99ms/step - loss: 0.0010 - val_loss: 0.0012\n",
            "Epoch 157/300\n",
            "10/10 [==============================] - ETA: 0s - loss: 8.8289e-04\n",
            "Epoch 157: val_loss did not improve from 0.00058\n",
            "10/10 [==============================] - 1s 98ms/step - loss: 8.8289e-04 - val_loss: 7.5134e-04\n",
            "Epoch 158/300\n",
            "10/10 [==============================] - ETA: 0s - loss: 7.4526e-04\n",
            "Epoch 158: val_loss did not improve from 0.00058\n",
            "10/10 [==============================] - 1s 107ms/step - loss: 7.4526e-04 - val_loss: 9.1800e-04\n",
            "Epoch 159/300\n",
            "10/10 [==============================] - ETA: 0s - loss: 9.2857e-04\n",
            "Epoch 159: val_loss did not improve from 0.00058\n",
            "10/10 [==============================] - 1s 100ms/step - loss: 9.2857e-04 - val_loss: 7.6142e-04\n",
            "Epoch 160/300\n",
            "10/10 [==============================] - ETA: 0s - loss: 9.1048e-04\n",
            "Epoch 160: val_loss did not improve from 0.00058\n",
            "10/10 [==============================] - 1s 107ms/step - loss: 9.1048e-04 - val_loss: 7.8471e-04\n",
            "Epoch 161/300\n",
            "10/10 [==============================] - ETA: 0s - loss: 0.0011\n",
            "Epoch 161: val_loss did not improve from 0.00058\n",
            "10/10 [==============================] - 1s 99ms/step - loss: 0.0011 - val_loss: 0.0011\n",
            "Epoch 162/300\n",
            "10/10 [==============================] - ETA: 0s - loss: 9.0839e-04\n",
            "Epoch 162: val_loss did not improve from 0.00058\n",
            "10/10 [==============================] - 1s 98ms/step - loss: 9.0839e-04 - val_loss: 0.0010\n",
            "Epoch 163/300\n",
            "10/10 [==============================] - ETA: 0s - loss: 7.8743e-04\n",
            "Epoch 163: val_loss did not improve from 0.00058\n",
            "10/10 [==============================] - 1s 98ms/step - loss: 7.8743e-04 - val_loss: 7.4916e-04\n",
            "Epoch 164/300\n",
            "10/10 [==============================] - ETA: 0s - loss: 9.1174e-04\n",
            "Epoch 164: val_loss did not improve from 0.00058\n",
            "10/10 [==============================] - 1s 99ms/step - loss: 9.1174e-04 - val_loss: 7.6995e-04\n"
          ]
        },
        {
          "output_type": "execute_result",
          "data": {
            "text/plain": [
              "<keras.callbacks.History at 0x7f8d12ae06d0>"
            ]
          },
          "metadata": {},
          "execution_count": 66
        }
      ],
      "source": [
        "DIR.fit(x_val_noise, x_val,\n",
        "                      validation_data = (x_val_noise, x_val),\n",
        "                      epochs = 300, batch_size = 100, callbacks = callbacks_list)"
      ]
    },
    {
      "cell_type": "code",
      "execution_count": 67,
      "metadata": {
        "id": "Xs15z2psJs-n"
      },
      "outputs": [],
      "source": [
        "# sample and display images\n",
        "dir = tf.keras.models.load_model('./drive/My Drive/PhD_Thesis/Generative_Models/dir_mnist_jsma.h5')\n",
        "outputs = dir.predict(x_val_noise)"
      ]
    },
    {
      "cell_type": "code",
      "execution_count": 68,
      "metadata": {
        "colab": {
          "base_uri": "https://localhost:8080/",
          "height": 140
        },
        "id": "1pcXkhQpKSZg",
        "outputId": "3564cdcd-8ae4-4a37-ff64-45cb403b7be3"
      },
      "outputs": [
        {
          "output_type": "display_data",
          "data": {
            "text/plain": [
              "<Figure size 1584x144 with 40 Axes>"
            ],
            "image/png": "[encoded data removed]"
          },
          "metadata": {
            "needs_background": "light"
          }
        }
      ],
      "source": [
        "# Display\n",
        "grid_col = 20\n",
        "grid_row = 2\n",
        "\n",
        "f, axarr = plt.subplots(grid_row, grid_col, figsize=(grid_col*1.1, grid_row))\n",
        "\n",
        "i = 0\n",
        "for row in range(0, grid_row, 2):\n",
        "    for col in range(grid_col):\n",
        "        axarr[row,col].imshow(np.clip(x_val_noise[i,:,:,0], 0, 1), cmap = 'gray')\n",
        "        axarr[row,col].axis('off')\n",
        "        axarr[row+1,col].imshow(outputs[i,:,:,0], cmap='gray')\n",
        "        axarr[row+1,col].axis('off')        \n",
        "        i += 1"
      ]
    },
    {
      "cell_type": "code",
      "execution_count": null,
      "metadata": {
        "id": "VXmMMpym6iwu"
      },
      "outputs": [],
      "source": []
    }
  ],
  "metadata": {
    "accelerator": "GPU",
    "colab": {
      "collapsed_sections": [],
      "provenance": []
    },
    "kernelspec": {
      "display_name": "Python 3",
      "name": "python3"
    }
  },
  "nbformat": 4,
  "nbformat_minor": 0
}